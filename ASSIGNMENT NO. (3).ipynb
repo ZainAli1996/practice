{
 "cells": [
  {
   "cell_type": "code",
   "execution_count": 1,
   "metadata": {},
   "outputs": [
    {
     "name": "stdout",
     "output_type": "stream",
     "text": [
      "Enter first value = 5\n",
      "Enter second value = 2\n",
      "Enter operator = **\n",
      "25 Answer\n"
     ]
    }
   ],
   "source": [
    "#Q1 Make a calculator using Python\n",
    "\n",
    "val1 = input(\"Enter first value = \")\n",
    "val2 = input(\"Enter second value = \")\n",
    "operator = input(\"Enter operator = \")\n",
    "\n",
    "val1 = int(val1)\n",
    "val2 = int(val2)\n",
    "\n",
    "if operator == \"+\": \n",
    "    val = val1 + val2\n",
    "    print(val, \"Answer\")\n",
    "elif operator == \"-\":\n",
    "    val = val1 - val2\n",
    "    print(val, \"Answer\")\n",
    "elif operator == \"*\":\n",
    "    val = val1 * val2\n",
    "    print(val, \"Answer\")\n",
    "elif operator == \"/\":\n",
    "    val = val1 / val2\n",
    "    print(val, \"Answer\")\n",
    "elif operator == \"**\":\n",
    "    val = val1**val2\n",
    "    print(val, \"Answer\")\n",
    "else:\n",
    "    print('Please Enter Correct Operator')"
   ]
  },
  {
   "cell_type": "code",
   "execution_count": 2,
   "metadata": {},
   "outputs": [
    {
     "name": "stdout",
     "output_type": "stream",
     "text": [
      "Enter the number you wanna find: 5\n",
      "5 exists in the list!\n"
     ]
    }
   ],
   "source": [
    "#Q2 Write a program to check if there is any numeric value in list using for loop.\n",
    "\n",
    "num_list = [5,1,3,8,6,5,0,4,2,59,15]\n",
    "user_input = int(input('Enter the number you wanna find: '))\n",
    "if user_input in num_list:\n",
    "    print(f'{user_input} exists in the list!')\n",
    "else:\n",
    "    print(f'{user_input} doesn\\'t exist in the list!')"
   ]
  },
  {
   "cell_type": "code",
   "execution_count": 3,
   "metadata": {},
   "outputs": [
    {
     "name": "stdout",
     "output_type": "stream",
     "text": [
      "{'first name': 'Zain', 'last name': 'Ali', 'address': 'Malir', 'gender': 'Male'}\n"
     ]
    }
   ],
   "source": [
    "#Q3 Python script to add a key to a dictionary.\n",
    "\n",
    "Student = {\n",
    "    \"first name\" : \"Zain\",\n",
    "    \"last name\" : \"Ali\",\n",
    "    \"address\" : \"Malir\"\n",
    "}\n",
    "Student[\"gender\"] = \"Male\"\n",
    "print(Student)"
   ]
  },
  {
   "cell_type": "code",
   "execution_count": 4,
   "metadata": {},
   "outputs": [
    {
     "name": "stdout",
     "output_type": "stream",
     "text": [
      "30\n"
     ]
    }
   ],
   "source": [
    "#Q4 Python program to sum all the numeric items in a dictionary.\n",
    "\n",
    "vehicles = {\"cycle\" : 5, \"car\" : 10, \"bus\" : 15}\n",
    "\n",
    "print(sum(vehicles.values()))"
   ]
  },
  {
   "cell_type": "code",
   "execution_count": 5,
   "metadata": {},
   "outputs": [
    {
     "name": "stdout",
     "output_type": "stream",
     "text": [
      "Duplicate Values Are = [2, 1, 7, 8]\n"
     ]
    }
   ],
   "source": [
    "#Q5 Write a program to identify duplicate values from list.\n",
    "\n",
    "my_list = [2,6,1,7,2,8,7,1,3,8]\n",
    "size_of_my_list = len(my_list) \n",
    "duplicate_values = [] \n",
    "for i in range(size_of_my_list): \n",
    "    k = i + 1\n",
    "    for j in range(k, size_of_my_list): \n",
    "        if my_list[i] == my_list[j] and my_list[i] not in duplicate_values: \n",
    "            duplicate_values.append(my_list[i])\n",
    "print(\"Duplicate Values Are =\", duplicate_values, )"
   ]
  },
  {
   "cell_type": "code",
   "execution_count": 6,
   "metadata": {},
   "outputs": [
    {
     "name": "stdout",
     "output_type": "stream",
     "text": [
      "Enter key to check:HP\n",
      "Yes! Given key already exists in a dictionary and value of the key is:\n",
      "2\n"
     ]
    }
   ],
   "source": [
    "#Q6 Python program to check key already exists in a dictionary.\n",
    "\n",
    "computer={'DELL':1,'HP':2,'MAC':3}\n",
    "key=input(\"Enter key to check:\")\n",
    "if key in computer.keys():\n",
    "    print(\"Yes! Given key already exists in a dictionary and value of the key is:\")\n",
    "    print(computer[key])\n",
    "else:\n",
    "      print(\"No! Key isn't present!\")"
   ]
  },
  {
   "cell_type": "code",
   "execution_count": null,
   "metadata": {},
   "outputs": [],
   "source": []
  }
 ],
 "metadata": {
  "kernelspec": {
   "display_name": "Python 3",
   "language": "python",
   "name": "python3"
  },
  "language_info": {
   "codemirror_mode": {
    "name": "ipython",
    "version": 3
   },
   "file_extension": ".py",
   "mimetype": "text/x-python",
   "name": "python",
   "nbconvert_exporter": "python",
   "pygments_lexer": "ipython3",
   "version": "3.7.4"
  }
 },
 "nbformat": 4,
 "nbformat_minor": 2
}
