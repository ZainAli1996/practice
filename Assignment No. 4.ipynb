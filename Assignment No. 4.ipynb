{
 "cells": [
  {
   "cell_type": "code",
   "execution_count": 3,
   "metadata": {},
   "outputs": [
    {
     "name": "stdout",
     "output_type": "stream",
     "text": [
      "first_name : Zain\n",
      "last_name : Ali\n",
      "age : 23\n",
      "city : Karachi\n"
     ]
    }
   ],
   "source": [
    "#Question1:\n",
    "\n",
    "# making dictionary\n",
    "person = {\n",
    "    'first_name' : 'Zain',\n",
    "    'last_name': 'Ali',\n",
    "    'age': 23,\n",
    "    'city': 'Karachi',\n",
    "}\n",
    "\n",
    "# printing the dictionary's values\n",
    "for key,value in person.items():\n",
    "    print(key,':',value)\n",
    "\n",
    "# adding new key value pair\n",
    "person['Qualification'] = 'Intermediate'\n",
    "\n",
    "# updating the qualification value\n",
    "person['Qualification'] = 'BS Computer Science'\n",
    "    \n",
    "# deleting qualification\n",
    "del person['Qualification']"
   ]
  },
  {
   "cell_type": "code",
   "execution_count": 4,
   "metadata": {},
   "outputs": [
    {
     "name": "stdout",
     "output_type": "stream",
     "text": [
      "\n",
      "Karachi is in Pakistan.\n",
      "  It has a population of about 15741000.\n",
      " It Is The Sixth Largest City In The World.\n",
      "\n",
      "Islamabad is in Pakistan.\n",
      "  It has a population of about 1095064.\n",
      " It Has Margala Hills.\n",
      "\n",
      "Kashmir is in Pakistan.\n",
      "  It has a population of about 14689775.\n",
      " It Is Famous For Lakes And Gardens.\n"
     ]
    }
   ],
   "source": [
    "#Question2:\n",
    "\n",
    "cities = {\n",
    "    'Karachi': {\n",
    "        'country': 'Pakistan',\n",
    "        'population': 15741000,\n",
    "        'intrusting fact': 'It is the Sixth largest city in the world',\n",
    "        },\n",
    "    'Islamabad': {\n",
    "        'country': 'Pakistan',\n",
    "        'population': 1095064,\n",
    "        'intrusting fact': 'It has Margala Hills',\n",
    "        },\n",
    "    'Kashmir': {\n",
    "        'country': 'Pakistan',\n",
    "        'population': 14689775,\n",
    "        'intrusting fact': 'It is Famous for lakes and gardens',\n",
    "        }\n",
    "    }\n",
    "\n",
    "for city, city_info in cities.items():\n",
    "    country = city_info['country'].title()\n",
    "    population = city_info['population']\n",
    "    mountains = city_info['intrusting fact'].title()\n",
    "\n",
    "    print(\"\\n\" + city.title() + \" is in \" + country + \".\")\n",
    "    print(\"  It has a population of about \" + str(population) + \".\")\n",
    "    print(\" \" + mountains + \".\")"
   ]
  },
  {
   "cell_type": "code",
   "execution_count": 5,
   "metadata": {},
   "outputs": [
    {
     "name": "stdout",
     "output_type": "stream",
     "text": [
      "How old are you?\n",
      " Enter 'quit' when you are finished. 13\n",
      "  Your ticket is $15.\n",
      "How old are you?\n",
      " Enter 'quit' when you are finished. quit\n"
     ]
    }
   ],
   "source": [
    "#Question3:\n",
    "\n",
    "prompt = \"How old are you?\"\n",
    "prompt += \"\\n Enter 'quit' when you are finished. \"\n",
    "\n",
    "while True:\n",
    "    age = input(prompt)\n",
    "    if age == 'quit':\n",
    "        break\n",
    "    age = int(age)\n",
    "\n",
    "    if age < 3:\n",
    "        print(\"  You get in free!\")\n",
    "    elif age < 13:\n",
    "        print(\"  Your ticket is $10.\")\n",
    "    else:\n",
    "        print(\"  Your ticket is $15.\")"
   ]
  },
  {
   "cell_type": "code",
   "execution_count": 6,
   "metadata": {},
   "outputs": [
    {
     "name": "stdout",
     "output_type": "stream",
     "text": [
      "Islamic Education is one of my favorite book.\n"
     ]
    }
   ],
   "source": [
    "#Question4:\n",
    "\n",
    "def favorite_book(title):\n",
    "    \n",
    "    print(title + \" is one of my favorite book.\")\n",
    "\n",
    "favorite_book('Islamic Education')"
   ]
  },
  {
   "cell_type": "code",
   "execution_count": null,
   "metadata": {},
   "outputs": [],
   "source": []
  }
 ],
 "metadata": {
  "kernelspec": {
   "display_name": "Python 3",
   "language": "python",
   "name": "python3"
  },
  "language_info": {
   "codemirror_mode": {
    "name": "ipython",
    "version": 3
   },
   "file_extension": ".py",
   "mimetype": "text/x-python",
   "name": "python",
   "nbconvert_exporter": "python",
   "pygments_lexer": "ipython3",
   "version": "3.7.4"
  }
 },
 "nbformat": 4,
 "nbformat_minor": 2
}
