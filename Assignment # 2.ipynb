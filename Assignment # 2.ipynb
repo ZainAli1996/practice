{
 "cells": [
  {
   "cell_type": "code",
   "execution_count": 2,
   "metadata": {},
   "outputs": [
    {
     "name": "stdout",
     "output_type": "stream",
     "text": [
      "Student: Zain Ali\n",
      "ID: PY05175\n",
      "Class: Python\n",
      "Enter marks of the ENG subject: 70\n",
      "Enter marks of the URDU subject: 80\n",
      "Enter marks of the MATH subject: 90\n",
      "Enter marks of the CHEM subject: 75\n",
      "Enter marks of the BIO subject: 85\n",
      "Your Grade is A+ & Your Percentage is  80.0\n"
     ]
    }
   ],
   "source": [
    "# Marksheet of a Student\n",
    "\n",
    "a = \"Student: Zain Ali\"\n",
    "b = \"ID: PY05175\"\n",
    "c = \"Class: Python\"\n",
    "print(a + \"\\n\" + b + \"\\n\" + c)\n",
    "\n",
    "ENG = int(input(\"Enter marks of the ENG subject: \"))\n",
    "URDU = int(input(\"Enter marks of the URDU subject: \"))\n",
    "MATH = int(input(\"Enter marks of the MATH subject: \"))\n",
    "CHEM = int(input(\"Enter marks of the CHEM subject: \"))\n",
    "BIO = int(input(\"Enter marks of the BIO subject: \"))\n",
    "sum = ENG + URDU + MATH + CHEM + BIO\n",
    "percentage = sum*100/500\n",
    "\n",
    "if(percentage>=80):\n",
    " print(\"Your Grade is A+ & Your Percentage is \", percentage)\n",
    "\n",
    "elif(percentage>=70):\n",
    " print(\"Your Grade is A & Your Percentage is \", percentage )\n",
    "\n",
    "elif(percentage>=60):\n",
    " print(\"Your Grade is B & Your Percentage is \", percentage)\n",
    "\n",
    "elif(percentage>=50):\n",
    " print(\"Your Grade is C & Your Percentage is \", percentage )\n",
    "\n",
    "elif (percentage>=40):\n",
    " print(\"Your Grade is D & Your Percentage is \", percentage)\n",
    "\n",
    "elif (percentage>=33):\n",
    " print(\"Your Grade is E & Your Percentage is \", percentage)\n",
    "\n",
    "else:\n",
    " print( \"You are fail\")"
   ]
  },
  {
   "cell_type": "code",
   "execution_count": 4,
   "metadata": {},
   "outputs": [
    {
     "name": "stdout",
     "output_type": "stream",
     "text": [
      "Enter a number: 4\n",
      "This is an even number.\n"
     ]
    }
   ],
   "source": [
    "# Findout Given Number EVEN/ODD\n",
    "\n",
    "num = int(input(\"Enter a number: \"))\n",
    "mod = num % 2\n",
    "if mod > 0:\n",
    "    print(\"This is an odd number.\")\n",
    "else:\n",
    "    print(\"This is an even number.\")"
   ]
  },
  {
   "cell_type": "code",
   "execution_count": 8,
   "metadata": {},
   "outputs": [
    {
     "name": "stdout",
     "output_type": "stream",
     "text": [
      "The length of list is:  5\n"
     ]
    }
   ],
   "source": [
    "# Length of List\n",
    "\n",
    "a = len([10, 20, 30, 40, 50]) \n",
    "print(\"The length of list is: \", a)"
   ]
  },
  {
   "cell_type": "code",
   "execution_count": 9,
   "metadata": {},
   "outputs": [
    {
     "name": "stdout",
     "output_type": "stream",
     "text": [
      "45\n"
     ]
    }
   ],
   "source": [
    "# Sum of Numeric Items\n",
    "\n",
    "def sum(numbers):\n",
    "    total = 0\n",
    "    for x in numbers:\n",
    "        total += x\n",
    "    return total\n",
    "print(sum((12, 6, 8, 5, 14)))"
   ]
  },
  {
   "cell_type": "code",
   "execution_count": 10,
   "metadata": {},
   "outputs": [
    {
     "name": "stdout",
     "output_type": "stream",
     "text": [
      "75\n"
     ]
    }
   ],
   "source": [
    "#Findout Largest Number in Numeric List\n",
    "\n",
    "def max_num_in_list( list ):\n",
    "    max = list[ 0 ]\n",
    "    for a in list:\n",
    "        if a > max:\n",
    "            max = a\n",
    "    return max\n",
    "print(max_num_in_list([75, 44, 55, 60]))\n"
   ]
  },
  {
   "cell_type": "code",
   "execution_count": 15,
   "metadata": {},
   "outputs": [
    {
     "name": "stdout",
     "output_type": "stream",
     "text": [
      "[1, 2, 3, 4]\n"
     ]
    }
   ],
   "source": [
    "# printout all elements of list that are less than 5.\n",
    "\n",
    "def elements_lessthan_five(l):\n",
    "    l1=[]\n",
    "    for i in l:\n",
    "        if i<5:\n",
    "            l1.append(i)\n",
    "            \n",
    "    return(l1)\n",
    "    \n",
    "print(elements_lessthan_five([1, 2, 3, 5, 4, 22, 55, 66]))"
   ]
  },
  {
   "cell_type": "code",
   "execution_count": null,
   "metadata": {},
   "outputs": [],
   "source": []
  }
 ],
 "metadata": {
  "kernelspec": {
   "display_name": "Python 3",
   "language": "python",
   "name": "python3"
  },
  "language_info": {
   "codemirror_mode": {
    "name": "ipython",
    "version": 3
   },
   "file_extension": ".py",
   "mimetype": "text/x-python",
   "name": "python",
   "nbconvert_exporter": "python",
   "pygments_lexer": "ipython3",
   "version": "3.7.4"
  }
 },
 "nbformat": 4,
 "nbformat_minor": 2
}
