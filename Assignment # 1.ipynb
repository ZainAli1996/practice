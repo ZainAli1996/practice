{
 "cells": [
  {
   "cell_type": "code",
   "execution_count": 1,
   "metadata": {},
   "outputs": [
    {
     "name": "stdout",
     "output_type": "stream",
     "text": [
      "   Twinkle, twinkle, little star,\n",
      "      How I wonder what you are!\n",
      "         Up above the world so high,\n",
      "         Like a diamond in the sky\n",
      "   Twinkle, twinkle, little star,\n",
      "      How I wonder what you are\n"
     ]
    }
   ],
   "source": [
    "#For Printing Poem\n",
    "\n",
    "Line1 = \"   Twinkle, twinkle, little star,\"\n",
    "Line2 = \"      How I wonder what you are!\"\n",
    "Line3 = \"         Up above the world so high,\"\n",
    "Line4 = \"         Like a diamond in the sky\"\n",
    "Line5 = \"   Twinkle, twinkle, little star,\"\n",
    "Line6 = \"      How I wonder what you are\"\n",
    "print(Line1 + \"\\n\" + Line2 + \"\\n\" + Line3 + \"\\n\" + Line4 + \"\\n\" + Line5 + \"\\n\" + Line6)"
   ]
  },
  {
   "cell_type": "code",
   "execution_count": 7,
   "metadata": {},
   "outputs": [
    {
     "name": "stdout",
     "output_type": "stream",
     "text": [
      "My Python Version\n",
      "3.7.4 (default, Aug  9 2019, 18:34:13) [MSC v.1915 64 bit (AMD64)]\n"
     ]
    }
   ],
   "source": [
    "#For Printing Python Version\n",
    "\n",
    "import sys\n",
    "print(\"My Python Version\")\n",
    "print(sys.version)"
   ]
  },
  {
   "cell_type": "code",
   "execution_count": 3,
   "metadata": {},
   "outputs": [
    {
     "name": "stdout",
     "output_type": "stream",
     "text": [
      "Current Date & Time = 2019-11-03 21:43:55.178040\n"
     ]
    }
   ],
   "source": [
    "#For Printing Current Date & Time\n",
    "\n",
    "from datetime import datetime\n",
    "today = datetime.now()\n",
    "print(\"Current Date & Time =\", today)"
   ]
  },
  {
   "cell_type": "code",
   "execution_count": 4,
   "metadata": {},
   "outputs": [
    {
     "name": "stdout",
     "output_type": "stream",
     "text": [
      "Please Enter The Radius of Circle 66\n",
      "Radius = 66\n",
      "Area of The Circle = 13684.77759903714\n"
     ]
    }
   ],
   "source": [
    "import math\n",
    "from math import pi\n",
    "\n",
    "#For Printing Radius Of Circle\n",
    "\n",
    "radius=input(\"Please Enter The Radius of Circle \")\n",
    "\n",
    "print(\"Radius =\", radius)\n",
    "\n",
    "#For Printing Area Of Circle\n",
    "\n",
    "Area_circle=pi*float(radius)**2\n",
    "\n",
    "print(\"Area of The Circle =\", Area_circle)"
   ]
  },
  {
   "cell_type": "code",
   "execution_count": 19,
   "metadata": {},
   "outputs": [
    {
     "name": "stdout",
     "output_type": "stream",
     "text": [
      "RESULT = ALI ZAIN\n"
     ]
    }
   ],
   "source": [
    "#For Printing Full_Name in Reverse Order\n",
    "\n",
    "First_Name = \"ZAIN\"\n",
    "Last_Name = \"ALI\"\n",
    "Full_Name = Last_Name + \" \" + First_Name\n",
    "print(\"RESULT =\", Full_Name)"
   ]
  },
  {
   "cell_type": "code",
   "execution_count": 20,
   "metadata": {},
   "outputs": [
    {
     "name": "stdout",
     "output_type": "stream",
     "text": [
      "Enter Value1 = 3\n",
      "Enter Value2 = 4\n",
      "RESULT = 7\n"
     ]
    }
   ],
   "source": [
    "#For Printing User's Input Values Sum/Addition\n",
    "\n",
    "x = int(input(\"Enter Value1 = \"))\n",
    "y = int(input(\"Enter Value2 = \"))\n",
    "z = x + y\n",
    "print(\"RESULT =\", z)"
   ]
  },
  {
   "cell_type": "code",
   "execution_count": null,
   "metadata": {},
   "outputs": [],
   "source": []
  }
 ],
 "metadata": {
  "kernelspec": {
   "display_name": "Python 3",
   "language": "python",
   "name": "python3"
  },
  "language_info": {
   "codemirror_mode": {
    "name": "ipython",
    "version": 3
   },
   "file_extension": ".py",
   "mimetype": "text/x-python",
   "name": "python",
   "nbconvert_exporter": "python",
   "pygments_lexer": "ipython3",
   "version": "3.7.4"
  }
 },
 "nbformat": 4,
 "nbformat_minor": 2
}
