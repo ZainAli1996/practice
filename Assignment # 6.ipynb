{
 "cells": [
  {
   "cell_type": "code",
   "execution_count": null,
   "metadata": {},
   "outputs": [],
   "source": [
    "#Question 1:\n",
    "\n",
    "Object-oriented programming refers to languages that uses objects in programming. \n",
    "Object-oriented programming aims to implement real-world entities like inheritance, hiding, polymorphism etc in programming."
   ]
  },
  {
   "cell_type": "code",
   "execution_count": null,
   "metadata": {},
   "outputs": [],
   "source": [
    "#Question 2:\n",
    "\n",
    "Simplicity: software objects model real world objects, so the complexity is reduced and the program structure is very clear.\n",
    "\n",
    "Modularity: each object forms a separate entity whose internal workings are decoupled from other parts of the system.\n",
    "\n",
    "Modifiability: it is easy to make minor changes in the data representation or the procedures in an OO program. Changes inside a class do not affect any other part of a program, since the only public interface that the external world has to a class is through the use of methods.\n",
    "\n",
    "Extensibility: adding new features or responding to changing operating environments can be solved by introducing a few new objects and modifying some existing ones.\n",
    "\n",
    "Maintainability: objects can be maintained separately, making locating and fixing problems easier.\n"
   ]
  },
  {
   "cell_type": "code",
   "execution_count": null,
   "metadata": {},
   "outputs": [],
   "source": [
    "#Question 3:\n",
    "Python Method\n",
    "\n",
    "Method is called by its name, but it is associated to an object (dependent).\n",
    "A method is implicitly passed the object on which it is invoked.\n",
    "It may or may not return any data.\n",
    "A method can operate on the data (instance variables) that is contained by the corresponding class\n",
    "\n",
    "Functions\n",
    "Function is block of code that is also called by its name. (independent)\n",
    "The function can have different parameters or may not have any at all. If any data (parameters) are passed, they are passed explicitly.\n",
    "It may or may not return any data.\n",
    "Function does not deal with Class and its instance concept.\n",
    "\n"
   ]
  },
  {
   "cell_type": "code",
   "execution_count": null,
   "metadata": {},
   "outputs": [],
   "source": [
    "#Question 4:\n",
    "Class: \n",
    "Pattern or blueprint for creating an object. \n",
    "A class contains all attributes and behaviors that describe or make up the object.\n",
    "\n",
    "Object: \n",
    "A thing that can be seen and touched (and manipulated). It is an instance of a class.\n",
    "\n",
    "Attributes: \n",
    "Characteristics that describe the object (sometimes referred to as properties).\n",
    "\n",
    "Behavior:\n",
    "The behavior of an object is defined by its methods, which are the functions and subroutines defined within the object class."
   ]
  },
  {
   "cell_type": "code",
   "execution_count": null,
   "metadata": {},
   "outputs": [],
   "source": []
  }
 ],
 "metadata": {
  "kernelspec": {
   "display_name": "Python 3",
   "language": "python",
   "name": "python3"
  },
  "language_info": {
   "codemirror_mode": {
    "name": "ipython",
    "version": 3
   },
   "file_extension": ".py",
   "mimetype": "text/x-python",
   "name": "python",
   "nbconvert_exporter": "python",
   "pygments_lexer": "ipython3",
   "version": "3.7.4"
  }
 },
 "nbformat": 4,
 "nbformat_minor": 2
}
